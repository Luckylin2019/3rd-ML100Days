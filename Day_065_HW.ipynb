{
 "cells": [
  {
   "cell_type": "markdown",
   "metadata": {},
   "source": [
    "# 作業\n",
    "* 選擇分類資料集(右下)-螺旋雙臂 - 交錯六群，限定特徵只能使用前兩個，隱藏層 2 層滿 (共 8 * 2 =16 個神經元)，  \n",
    "  遞迴次數只允許跑到500次，但可以自由調整 批次大小、學習速率、啟動函數、正規化選項與參數\n",
    "* 在上述限制下，挑戰看看測試誤差 (Test Loss) 最低能到多少? 請回答你的上述幾項參數與 Test Loss 數"
   ]
  },
  {
   "cell_type": "code",
   "execution_count": 22,
   "metadata": {},
   "outputs": [
    {
     "ename": "SyntaxError",
     "evalue": "invalid syntax (<ipython-input-22-f23c8de2547d>, line 2)",
     "output_type": "error",
     "traceback": [
      "\u001b[1;36m  File \u001b[1;32m\"<ipython-input-22-f23c8de2547d>\"\u001b[1;36m, line \u001b[1;32m2\u001b[0m\n\u001b[1;33m    df = pd.DataFrame({\"Problem type\" : [\"Classi \"Lfication\", \"Regression\", \"Regression\", \"Regression\", \"Regression\", \"Regression\", \"Regression\"], \"Dataset\" : [\"Spiral\",\"Multi gaussioan\",\"Multi gaussioan\",\"Multi gaussioan\",\"Multi gaussioan\",\"Multi gaussioan\",\"Multi gaussioan\"], \"Batch Size\" : [\"5\",\"5\",\"5\",\"5\",\"15\",\"5\",\"5\"], \"Learninig Rate\" : [1,0.03,1,0.003,1,1,1], \"Activation\" : [\"Sigmoid\",\"Sigmoid\",\"Sigmoid\",\"Sigmoid\",\"Sigmoid\",\"Tanh\",\"Rolu\"], \"Test Loss\" : [0.434,0.016,0.012,0.047,0.018,0.014,0.053]})\u001b[0m\n\u001b[1;37m                                                          ^\u001b[0m\n\u001b[1;31mSyntaxError\u001b[0m\u001b[1;31m:\u001b[0m invalid syntax\n"
     ]
    }
   ],
   "source": [
    "import pandas as pd\n",
    "\n",
    "df = pd.DataFrame({\"Problem type\" : [\"Classification\", \"Regression\", \"Regression\", \"Regression\", \"Regression\", \"Regression\", \"Regression\"], \"Dataset\" : [\"Spiral\",\"Multi gaussioan\",\"Multi gaussioan\",\"Multi gaussioan\",\"Multi gaussioan\",\"Multi gaussioan\",\"Multi gaussioan\"], \"Batch Size\" : [\"5\",\"5\",\"5\",\"5\",\"15\",\"5\",\"5\"], \"Learninig Rate\" : [1.0,0.03,1,0.003,1,1,1], \"Activation\" : [\"Sigmoid\",\"Sigmoid\",\"Sigmoid\",\"Sigmoid\",\"Sigmoid\",\"Tanh\",\"Rolu\"], \"Test Loss\" : [0.434,0.016,0.012,0.047,0.018,0.014,0.053]})\n",
    "df    \n",
    "\n"
   ]
  },
  {
   "cell_type": "markdown",
   "metadata": {
    "collapsed": true
   },
   "source": []
  }
 ],
 "metadata": {
  "kernelspec": {
   "display_name": "Python 3",
   "language": "python",
   "name": "python3"
  },
  "language_info": {
   "codemirror_mode": {
    "name": "ipython",
    "version": 3
   },
   "file_extension": ".py",
   "mimetype": "text/x-python",
   "name": "python",
   "nbconvert_exporter": "python",
   "pygments_lexer": "ipython3",
   "version": "3.7.3"
  }
 },
 "nbformat": 4,
 "nbformat_minor": 2
}
