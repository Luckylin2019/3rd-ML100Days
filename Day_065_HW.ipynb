{
 "cells": [
  {
   "cell_type": "markdown",
   "metadata": {},
   "source": [
    "# 作業\n",
    "* 選擇分類資料集(右下)-螺旋雙臂 - 交錯六群，限定特徵只能使用前兩個，隱藏層 2 層滿 (共 8 * 2 =16 個神經元)，  \n",
    "  遞迴次數只允許跑到500次，但可以自由調整 批次大小、學習速率、啟動函數、正規化選項與參數\n",
    "* 在上述限制下，挑戰看看測試誤差 (Test Loss) 最低能到多少? 請回答你的上述幾項參數與 Test Loss 數"
   ]
  },
  {
   "cell_type": "code",
   "execution_count": 24,
   "metadata": {},
   "outputs": [
    {
     "data": {
      "text/html": [
       "<div>\n",
       "<style scoped>\n",
       "    .dataframe tbody tr th:only-of-type {\n",
       "        vertical-align: middle;\n",
       "    }\n",
       "\n",
       "    .dataframe tbody tr th {\n",
       "        vertical-align: top;\n",
       "    }\n",
       "\n",
       "    .dataframe thead th {\n",
       "        text-align: right;\n",
       "    }\n",
       "</style>\n",
       "<table border=\"1\" class=\"dataframe\">\n",
       "  <thead>\n",
       "    <tr style=\"text-align: right;\">\n",
       "      <th></th>\n",
       "      <th>Problem type</th>\n",
       "      <th>Dataset</th>\n",
       "      <th>Batch Size</th>\n",
       "      <th>Learninig Rate</th>\n",
       "      <th>Activation</th>\n",
       "      <th>Test Loss</th>\n",
       "    </tr>\n",
       "  </thead>\n",
       "  <tbody>\n",
       "    <tr>\n",
       "      <th>0</th>\n",
       "      <td>Classification</td>\n",
       "      <td>Spiral</td>\n",
       "      <td>5</td>\n",
       "      <td>1.000</td>\n",
       "      <td>Sigmoid</td>\n",
       "      <td>0.434</td>\n",
       "    </tr>\n",
       "    <tr>\n",
       "      <th>1</th>\n",
       "      <td>Regression</td>\n",
       "      <td>Multi gaussioan</td>\n",
       "      <td>5</td>\n",
       "      <td>0.030</td>\n",
       "      <td>Sigmoid</td>\n",
       "      <td>0.016</td>\n",
       "    </tr>\n",
       "    <tr>\n",
       "      <th>2</th>\n",
       "      <td>Regression</td>\n",
       "      <td>Multi gaussioan</td>\n",
       "      <td>5</td>\n",
       "      <td>1.000</td>\n",
       "      <td>Sigmoid</td>\n",
       "      <td>0.012</td>\n",
       "    </tr>\n",
       "    <tr>\n",
       "      <th>3</th>\n",
       "      <td>Regression</td>\n",
       "      <td>Multi gaussioan</td>\n",
       "      <td>5</td>\n",
       "      <td>0.003</td>\n",
       "      <td>Sigmoid</td>\n",
       "      <td>0.047</td>\n",
       "    </tr>\n",
       "    <tr>\n",
       "      <th>4</th>\n",
       "      <td>Regression</td>\n",
       "      <td>Multi gaussioan</td>\n",
       "      <td>15</td>\n",
       "      <td>1.000</td>\n",
       "      <td>Sigmoid</td>\n",
       "      <td>0.018</td>\n",
       "    </tr>\n",
       "    <tr>\n",
       "      <th>5</th>\n",
       "      <td>Regression</td>\n",
       "      <td>Multi gaussioan</td>\n",
       "      <td>5</td>\n",
       "      <td>1.000</td>\n",
       "      <td>Tanh</td>\n",
       "      <td>0.014</td>\n",
       "    </tr>\n",
       "    <tr>\n",
       "      <th>6</th>\n",
       "      <td>Regression</td>\n",
       "      <td>Multi gaussioan</td>\n",
       "      <td>5</td>\n",
       "      <td>1.000</td>\n",
       "      <td>Rolu</td>\n",
       "      <td>0.053</td>\n",
       "    </tr>\n",
       "  </tbody>\n",
       "</table>\n",
       "</div>"
      ],
      "text/plain": [
       "     Problem type          Dataset Batch Size  Learninig Rate Activation  \\\n",
       "0  Classification           Spiral          5           1.000    Sigmoid   \n",
       "1      Regression  Multi gaussioan          5           0.030    Sigmoid   \n",
       "2      Regression  Multi gaussioan          5           1.000    Sigmoid   \n",
       "3      Regression  Multi gaussioan          5           0.003    Sigmoid   \n",
       "4      Regression  Multi gaussioan         15           1.000    Sigmoid   \n",
       "5      Regression  Multi gaussioan          5           1.000       Tanh   \n",
       "6      Regression  Multi gaussioan          5           1.000       Rolu   \n",
       "\n",
       "   Test Loss  \n",
       "0      0.434  \n",
       "1      0.016  \n",
       "2      0.012  \n",
       "3      0.047  \n",
       "4      0.018  \n",
       "5      0.014  \n",
       "6      0.053  "
      ]
     },
     "execution_count": 24,
     "metadata": {},
     "output_type": "execute_result"
    }
   ],
   "source": [
    "import pandas as pd\n",
    "\n",
    "df = pd.DataFrame({\"Problem type\" : [\"Classification\", \"Regression\", \"Regression\", \"Regression\", \"Regression\", \"Regression\", \"Regression\"], \"Dataset\" : [\"Spiral\",\"Multi gaussioan\",\"Multi gaussioan\",\"Multi gaussioan\",\"Multi gaussioan\",\"Multi gaussioan\",\"Multi gaussioan\"], \"Batch Size\" : [\"5\",\"5\",\"5\",\"5\",\"15\",\"5\",\"5\"], \"Learninig Rate\" : [1.0,0.03,1,0.003,1,1,1], \"Activation\" : [\"Sigmoid\",\"Sigmoid\",\"Sigmoid\",\"Sigmoid\",\"Sigmoid\",\"Tanh\",\"Rolu\"], \"Test Loss\" : [0.434,0.016,0.012,0.047,0.018,0.014,0.053]})\n",
    "df    \n"
   ]
  },
  {
   "cell_type": "markdown",
   "metadata": {},
   "source": [
    "Problem type:Regression,Dataset\t:Multi gaussioan(交錯六群),\t批次大小為 5，學習速率為 1.00，啟動函數為Sigmoid，不使用正規化選項與參數，最終 Test Loss 為0.012 \n"
   ]
  },
  {
   "cell_type": "markdown",
   "metadata": {
    "collapsed": true
   },
   "source": []
  }
 ],
 "metadata": {
  "kernelspec": {
   "display_name": "Python 3",
   "language": "python",
   "name": "python3"
  },
  "language_info": {
   "codemirror_mode": {
    "name": "ipython",
    "version": 3
   },
   "file_extension": ".py",
   "mimetype": "text/x-python",
   "name": "python",
   "nbconvert_exporter": "python",
   "pygments_lexer": "ipython3",
   "version": "3.7.3"
  }
 },
 "nbformat": 4,
 "nbformat_minor": 2
}
